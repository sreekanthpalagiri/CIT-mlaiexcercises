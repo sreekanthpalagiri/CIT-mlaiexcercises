{
 "cells": [
  {
   "cell_type": "markdown",
   "metadata": {},
   "source": [
    "# Week1 Excercise for Applied ML, MS in AI - Basics of Numpy and Pandas\n",
    "\n",
    "First step - Set current director to the course directory and print the directory"
   ]
  },
  {
   "cell_type": "code",
   "execution_count": 3,
   "metadata": {},
   "outputs": [
    {
     "name": "stdout",
     "output_type": "stream",
     "text": [
      "C:\\Work\\CIT\\COMP9061-ML\n"
     ]
    }
   ],
   "source": [
    "import os\n",
    "os. chdir(\"C:\\Work\\CIT\\COMP9061-ML\")\n",
    "dir = os.getcwd()\n",
    "print(dir)"
   ]
  },
  {
   "cell_type": "markdown",
   "metadata": {},
   "source": [
    "### Question 1 - Numerical Analysis Exercises using NumPy – Rainfall Dataset:\n",
    "\n",
    "The objective of the exercises below is to familiarize yourself with the use of NumPy. These excises are mainly based on rainfall data in Cork for each month over the past half century. In the folder you will find a file called CorkRainfall.txt and a file called DublinRainfall.txt. This is a space delimited file.\n",
    "Each line of the file contains the following precipitation information pertaining to a specific month and year:\n",
    "\n",
    "• Year\n",
    "• Month (1 = Jan, 2 = Feb, 3 = March, etc. )\n",
    "• Total Rainfall (Millimetres)\n",
    "• Most Rainfall in a Day (Millimetres)\n",
    "• Number of Rain days (A day is classified as a rain day if it has >= 0.2mm rain) (Number)\n",
    "\n",
    "Please use NumPy to answer the following questions. The objective of this task is to familiarize yourself with the operation of NumPy (there is no need to incorporate error checking)."
   ]
  },
  {
   "cell_type": "markdown",
   "metadata": {},
   "source": [
    "##### Read csv to data frames"
   ]
  },
  {
   "cell_type": "code",
   "execution_count": 188,
   "metadata": {},
   "outputs": [
    {
     "name": "stdout",
     "output_type": "stream",
     "text": [
      "     Year  Month  total  maxinaday  Norainday\n",
      "0    1962      1  134.6       12.5         22\n",
      "1    1962      2   77.2       11.2         17\n",
      "2    1962      3   73.6       13.4         13\n",
      "3    1962      4   68.6       20.6         17\n",
      "4    1962      5   80.7       22.7         16\n",
      "5    1962      6   50.2       28.3         11\n",
      "6    1962      7   92.2       18.5         15\n",
      "7    1962      8   99.4       25.8         19\n",
      "8    1962      9  122.4       31.1         19\n",
      "9    1962     10   42.6       15.1         12\n",
      "10   1962     11  105.5       23.7         14\n",
      "11   1962     12   86.4       23.6         18\n",
      "12   1963      1   34.8       14.9         13\n",
      "13   1963      2   96.0       19.7         11\n",
      "14   1963      3  212.5       30.5         25\n",
      "15   1963      4  113.7       29.2         20\n",
      "16   1963      5   53.9        7.6         19\n",
      "17   1963      6   46.2        8.6         15\n",
      "18   1963      7   76.6       16.9         14\n",
      "19   1963      8  104.3       40.6         22\n",
      "20   1963      9   39.5        8.8         16\n",
      "21   1963     10  143.1       56.0         21\n",
      "22   1963     11  206.9       35.2         24\n",
      "23   1963     12  112.9       37.0         17\n",
      "24   1964      1   35.9       12.6         17\n",
      "25   1964      2  166.4       46.3         19\n",
      "26   1964      3  233.9       28.7         20\n",
      "27   1964      4   82.9       16.6         20\n",
      "28   1964      5  106.7       17.1         21\n",
      "29   1964      6   89.8       18.1         16\n",
      "..    ...    ...    ...        ...        ...\n",
      "570  2009      7  203.7       36.7         27\n",
      "571  2009      8  155.5       24.1         23\n",
      "572  2009      9   53.8       15.8         11\n",
      "573  2009     10  180.6       27.1         21\n",
      "574  2009     11  232.8       30.3         29\n",
      "575  2009     12  157.6       41.9         19\n",
      "576  2010      1  125.7       21.5         14\n",
      "577  2010      2   42.7       19.5         12\n",
      "578  2010      3   96.2       18.9         17\n",
      "579  2010      4   40.9       18.0         12\n",
      "580  2010      5   47.3       10.5         12\n",
      "581  2010      6   63.4       21.1         15\n",
      "582  2010      7  119.5       25.2         22\n",
      "583  2010      8   17.1        8.8         10\n",
      "584  2010      9   81.4       16.7         22\n",
      "585  2010     10  118.0       26.2         24\n",
      "586  2010     11   85.6       29.2         20\n",
      "587  2010     12   66.9       27.1          9\n",
      "588  2011      1   75.8       17.7         11\n",
      "589  2011      2  127.7       17.0         23\n",
      "590  2011      3   35.7        7.0         12\n",
      "591  2011      4   39.7       12.1         13\n",
      "592  2011      5  122.3       22.4         18\n",
      "593  2011      6   88.7       23.8         17\n",
      "594  2011      7   40.3       13.2         13\n",
      "595  2011      8   53.9        9.3         14\n",
      "596  2011      9  112.5       16.8         24\n",
      "597  2011     10   91.8       24.4         22\n",
      "598  2011     11  148.6       35.2         23\n",
      "599  2011     12   87.1       22.0         26\n",
      "\n",
      "[600 rows x 5 columns]\n",
      "     Year  Month  total  maxinaday  Norainday\n",
      "0    1962      1   41.1        7.1         16\n",
      "1    1962      2   26.7        5.7         14\n",
      "2    1962      3   53.6       15.1         13\n",
      "3    1962      4   40.8        7.1         13\n",
      "4    1962      5   56.8       18.5         19\n",
      "5    1962      6   24.9        7.4         11\n",
      "6    1962      7   68.0       18.4         15\n",
      "7    1962      8   73.1       17.5         17\n",
      "8    1962      9  129.2       31.1         19\n",
      "9    1962     10   16.8        8.4          8\n",
      "10   1962     11   47.9        9.2         14\n",
      "11   1962     12   75.3       12.9         20\n",
      "12   1963      1   41.1        9.3         12\n",
      "13   1963      2   61.9       22.7         10\n",
      "14   1963      3   65.2       15.2         16\n",
      "15   1963      4   47.0        6.6         19\n",
      "16   1963      5   42.0        7.9         20\n",
      "17   1963      6   54.3       15.5         17\n",
      "18   1963      7   23.5        6.0         13\n",
      "19   1963      8  103.1       53.5         20\n",
      "20   1963      9   44.9       12.0         12\n",
      "21   1963     10   47.6        9.7         15\n",
      "22   1963     11   95.9       17.8         21\n",
      "23   1963     12   16.4        4.4         10\n",
      "24   1964      1   14.8        3.4         10\n",
      "25   1964      2   28.3        5.8         13\n",
      "26   1964      3  106.6       18.9         18\n",
      "27   1964      4   62.3       15.0         23\n",
      "28   1964      5   45.4        7.0         16\n",
      "29   1964      6   51.0        9.6         17\n",
      "..    ...    ...    ...        ...        ...\n",
      "570  2009      7  153.9       39.2         22\n",
      "571  2009      8   69.1       22.2         20\n",
      "572  2009      9   24.2       13.0          9\n",
      "573  2009     10   84.9       22.9         20\n",
      "574  2009     11  149.4       28.1         26\n",
      "575  2009     12   71.6       20.4         18\n",
      "576  2010      1   42.7       10.0         14\n",
      "577  2010      2   36.7        8.5         14\n",
      "578  2010      3   54.8       16.0         11\n",
      "579  2010      4   26.7        5.2         11\n",
      "580  2010      5   48.8       19.5         13\n",
      "581  2010      6   43.3       15.5          7\n",
      "582  2010      7   74.7       19.5         18\n",
      "583  2010      8   48.0        8.8         17\n",
      "584  2010      9  105.5       17.7         19\n",
      "585  2010     10   29.6        6.0         12\n",
      "586  2010     11  100.5       11.1         24\n",
      "587  2010     12   57.6       12.0         16\n",
      "588  2011      1   29.4       10.5         13\n",
      "589  2011      2   75.9       18.7         22\n",
      "590  2011      3   19.4        8.1         10\n",
      "591  2011      4   28.4       12.6         12\n",
      "592  2011      5   37.1        6.1         21\n",
      "593  2011      6   64.2       10.2         18\n",
      "594  2011      7   42.6        7.0         17\n",
      "595  2011      8   39.7        6.7         19\n",
      "596  2011      9   87.3       42.1         19\n",
      "597  2011     10  147.4       71.3         18\n",
      "598  2011     11   48.5       11.7         11\n",
      "599  2011     12   52.2        5.2         23\n",
      "\n",
      "[600 rows x 5 columns]\n"
     ]
    }
   ],
   "source": [
    "import pandas as pd\n",
    "df_cork = pd.read_csv(dir+'\\datasets\\CorkRainfall.txt', index_col= False,\n",
    "           names  = ['Year','Month','total','maxinaday','Norainday'], delimiter =' ')\n",
    "df_dublin = pd.read_csv(dir+'\\datasets\\DublinRainfall.txt',index_col= False,\n",
    "            names  = ['Year','Month','total','maxinaday','Norainday'],delimiter =' ')\n",
    "\n",
    "print(df_cork)\n",
    "print(df_dublin)"
   ]
  },
  {
   "cell_type": "markdown",
   "metadata": {},
   "source": [
    "(i) Print out the max ‘Most Rainfall in a Day’ value and the average ‘Most Rainfall in a Day’ value for the Cork data (that is, obtain the maximum value contained in this column of data and the average value in this column of data)."
   ]
  },
  {
   "cell_type": "code",
   "execution_count": 22,
   "metadata": {},
   "outputs": [
    {
     "name": "stdout",
     "output_type": "stream",
     "text": [
      "86.7 22.910500000000024\n"
     ]
    }
   ],
   "source": [
    "print(df_cork.maxinaday.max(),df_cork.maxinaday.mean())"
   ]
  },
  {
   "cell_type": "markdown",
   "metadata": {},
   "source": [
    "(ii) Display all unique years for which there is data in the dataset (you can use np.unique) Ask the user to select a specific year. You should then output the sum of the Rain Days column for that year (you do this by adding up the \"Number of rain days” for all 12 rows pertaining to the selected year)."
   ]
  },
  {
   "cell_type": "code",
   "execution_count": 54,
   "metadata": {},
   "outputs": [
    {
     "name": "stdout",
     "output_type": "stream",
     "text": [
      "Pick an year\n",
      "[1962 1963 1964 1965 1966 1967 1968 1969 1970 1971 1972 1973 1974 1975\n",
      " 1976 1977 1978 1979 1980 1981 1982 1983 1984 1985 1986 1987 1988 1989\n",
      " 1990 1991 1992 1993 1994 1995 1996 1997 1998 1999 2000 2001 2002 2003\n",
      " 2004 2005 2006 2007 2008 2009 2010 2011]\n",
      "1962\n",
      "Total No. of rain days: 193\n"
     ]
    }
   ],
   "source": [
    "print('Pick an year')\n",
    "print(df_cork.Year.unique())\n",
    "useryear = int(input())\n",
    "print('Total No. of rain days:',df_cork[df_cork.Year ==useryear].Norainday.sum())"
   ]
  },
  {
   "cell_type": "markdown",
   "metadata": {},
   "source": [
    "(iii) Calculate the wettest month of the year in Cork based using the “Total Rainfall” value. The month that has the highest cumulative “Total Rainfall” value across all years should be classified as the wettest."
   ]
  },
  {
   "cell_type": "code",
   "execution_count": 122,
   "metadata": {},
   "outputs": [
    {
     "name": "stdout",
     "output_type": "stream",
     "text": [
      "Highest rain fall in year 1962 was in month 1, which is 134.6\n",
      "Highest rain fall in year 1963 was in month 3, which is 212.5\n",
      "Highest rain fall in year 1964 was in month 3, which is 233.9\n",
      "Highest rain fall in year 1965 was in month 11, which is 206.9\n",
      "Highest rain fall in year 1966 was in month 2, which is 299.9\n",
      "Highest rain fall in year 1967 was in month 10, which is 151.1\n",
      "Highest rain fall in year 1968 was in month 11, which is 186.8\n",
      "Highest rain fall in year 1969 was in month 1, which is 275.0\n",
      "Highest rain fall in year 1970 was in month 1, which is 219.1\n",
      "Highest rain fall in year 1971 was in month 1, which is 162.6\n",
      "Highest rain fall in year 1972 was in month 2, which is 190.5\n",
      "Highest rain fall in year 1973 was in month 5, which is 182.5\n",
      "Highest rain fall in year 1974 was in month 1, which is 340.9\n",
      "Highest rain fall in year 1975 was in month 10, which is 204.7\n",
      "Highest rain fall in year 1976 was in month 10, which is 209.8\n",
      "Highest rain fall in year 1977 was in month 2, which is 237.1\n",
      "Highest rain fall in year 1978 was in month 12, which is 265.0\n",
      "Highest rain fall in year 1979 was in month 12, which is 216.4\n",
      "Highest rain fall in year 1980 was in month 10, which is 157.5\n",
      "Highest rain fall in year 1981 was in month 5, which is 216.4\n",
      "Highest rain fall in year 1982 was in month 10, which is 209.5\n",
      "Highest rain fall in year 1983 was in month 9, which is 194.4\n",
      "Highest rain fall in year 1984 was in month 1, which is 194.0\n",
      "Highest rain fall in year 1985 was in month 12, which is 180.6\n",
      "Highest rain fall in year 1986 was in month 8, which is 226.9\n",
      "Highest rain fall in year 1987 was in month 12, which is 184.7\n",
      "Highest rain fall in year 1988 was in month 1, which is 256.9\n",
      "Highest rain fall in year 1989 was in month 12, which is 239.0\n",
      "Highest rain fall in year 1990 was in month 2, which is 213.4\n",
      "Highest rain fall in year 1991 was in month 10, which is 148.2\n",
      "Highest rain fall in year 1992 was in month 11, which is 141.0\n",
      "Highest rain fall in year 1993 was in month 9, which is 216.0\n",
      "Highest rain fall in year 1994 was in month 2, which is 236.6\n",
      "Highest rain fall in year 1995 was in month 10, which is 234.3\n",
      "Highest rain fall in year 1996 was in month 10, which is 239.7\n",
      "Highest rain fall in year 1997 was in month 8, which is 231.3\n",
      "Highest rain fall in year 1998 was in month 1, which is 178.5\n",
      "Highest rain fall in year 1999 was in month 8, which is 199.8\n",
      "Highest rain fall in year 2000 was in month 11, which is 190.9\n",
      "Highest rain fall in year 2001 was in month 8, which is 154.6\n",
      "Highest rain fall in year 2002 was in month 1, which is 242.4\n",
      "Highest rain fall in year 2003 was in month 11, which is 125.0\n",
      "Highest rain fall in year 2004 was in month 8, which is 178.5\n",
      "Highest rain fall in year 2005 was in month 10, which is 219.3\n",
      "Highest rain fall in year 2006 was in month 10, which is 184.7\n",
      "Highest rain fall in year 2007 was in month 6, which is 156.9\n",
      "Highest rain fall in year 2008 was in month 1, which is 195.1\n",
      "Highest rain fall in year 2009 was in month 11, which is 232.8\n",
      "Highest rain fall in year 2010 was in month 1, which is 125.7\n",
      "Highest rain fall in year 2011 was in month 11, which is 148.6\n",
      "Wettest Month Across all years: 1\n"
     ]
    }
   ],
   "source": [
    "df_cork_year = df_cork.groupby(['Year'])['total'].max()\n",
    "for index,row in df_cork.iterrows():\n",
    "    if df_cork_year[row['Year']] == row['total']: \n",
    "        print('Highest rain fall in year {0} was in month {1}, which is {2}'.format(int(row['Year']), \n",
    "            int(row['Month']),row['total']))\n",
    "df_cork_month = df_cork.groupby('Month').agg({'total': ['max']})\n",
    "df_cork_month.columns = ['month_max']\n",
    "print('Wettest Month Across all years:',df_cork_month[df_cork_month.month_max==df_cork_month.month_max.max()].index[0])"
   ]
  },
  {
   "cell_type": "markdown",
   "metadata": {},
   "source": [
    "(iv) This question focuses on the Number of Rain days column. The user is asked to enter a maximum threshold value for the number of rain days. Your code should then output the percentage of the time (percentage of rows in the dataset) where the number of rain days is less than or equal to the threshold value.\n",
    "Practical Machine Learning –\n",
    "NumPy Exercises\n",
    "For example, if a user enters a maximum threshold value of 6, then your code should output the percentage of rows where the number of rain days fell below the threshold value of 6."
   ]
  },
  {
   "cell_type": "code",
   "execution_count": 145,
   "metadata": {},
   "outputs": [
    {
     "name": "stdout",
     "output_type": "stream",
     "text": [
      "15\n",
      "28 % times it rained below 15 days in a month\n"
     ]
    }
   ],
   "source": [
    "threshhold=int(input())\n",
    "print('{0} % times it rained below {1} days in a month.'.format((round((df_cork[df_cork.Norainday<threshhold].shape[0]/df_cork.shape[0])*100)),threshhold))"
   ]
  },
  {
   "cell_type": "markdown",
   "metadata": {},
   "source": [
    "(v) Calculate the average ‘total rainfall’ value for the summer months (June, July and August) and the Autumn months (Sept, Oct, Nov)."
   ]
  },
  {
   "cell_type": "code",
   "execution_count": 179,
   "metadata": {},
   "outputs": [
    {
     "name": "stdout",
     "output_type": "stream",
     "text": [
      "Year  Season\n",
      "1962  Autumn    122.4\n",
      "      Summer     99.4\n",
      "1963  Autumn    206.9\n",
      "      Summer    104.3\n",
      "1964  Autumn     80.2\n",
      "      Summer    134.6\n",
      "1965  Autumn    206.9\n",
      "      Summer    128.8\n",
      "1966  Autumn    232.2\n",
      "      Summer    102.2\n",
      "1967  Autumn    151.1\n",
      "      Summer    101.9\n",
      "1968  Autumn    186.8\n",
      "      Summer     74.6\n",
      "1969  Autumn    113.1\n",
      "      Summer     84.5\n",
      "1970  Autumn    216.3\n",
      "      Summer     86.3\n",
      "1971  Autumn    128.5\n",
      "      Summer    121.8\n",
      "1972  Autumn    121.9\n",
      "      Summer     44.2\n",
      "1973  Autumn    156.3\n",
      "      Summer     74.6\n",
      "1974  Autumn    187.4\n",
      "      Summer    118.9\n",
      "1975  Autumn    204.7\n",
      "      Summer    186.3\n",
      "1976  Autumn    209.8\n",
      "      Summer     92.8\n",
      "                ...  \n",
      "1997  Autumn    215.6\n",
      "      Summer    231.3\n",
      "1998  Autumn    167.1\n",
      "      Summer    128.9\n",
      "1999  Autumn    180.0\n",
      "      Summer    199.8\n",
      "2000  Autumn    190.9\n",
      "      Summer     68.2\n",
      "2001  Autumn    127.2\n",
      "      Summer    154.6\n",
      "2002  Autumn    214.7\n",
      "      Summer    105.3\n",
      "2003  Autumn    125.0\n",
      "      Summer    107.0\n",
      "2004  Autumn    167.1\n",
      "      Summer    178.5\n",
      "2005  Autumn    219.3\n",
      "      Summer    105.2\n",
      "2006  Autumn    184.7\n",
      "      Summer     69.9\n",
      "2007  Autumn     64.0\n",
      "      Summer    156.9\n",
      "2008  Autumn    139.2\n",
      "      Summer    163.6\n",
      "2009  Autumn    232.8\n",
      "      Summer    203.7\n",
      "2010  Autumn    118.0\n",
      "      Summer    119.5\n",
      "2011  Autumn    148.6\n",
      "      Summer     88.7\n",
      "Name: total, Length: 100, dtype: float64\n"
     ]
    }
   ],
   "source": [
    "df_cork1= df_cork\n",
    "df_cork1['Season']=''\n",
    "df_cork1.loc[df_cork1.Month.isin([6,7,8]),'Season']='Summer'\n",
    "df_cork1.loc[df_cork1.Month.isin([9,10,11]),'Season']='Autumn'\n",
    "df_cork_specmon=df_cork1[df_cork1.Season!='']\n",
    "df_cork_year_season = df_cork_specmon.groupby(['Year','Season'])['total'].max()\n",
    "print(df_cork_year_season)"
   ]
  },
  {
   "cell_type": "markdown",
   "metadata": {},
   "source": [
    "(vi) Read in the contents of the file DublinRainfall.txt into a NumPy array. Append the all rows from the Dublin array to the Cork NumPy array. Calculate the average number of raindays for the new array and write the new NumPy array to a CSV file."
   ]
  },
  {
   "cell_type": "code",
   "execution_count": 192,
   "metadata": {},
   "outputs": [
    {
     "name": "stdout",
     "output_type": "stream",
     "text": [
      "16.701666666666668\n"
     ]
    }
   ],
   "source": [
    "df_rain = pd.concat([df_cork, df_dublin],sort=False).reset_index()\n",
    "print(df_rain.Norainday.mean())\n",
    "df_rain.to_csv(dir+'\\datasets\\FullRainfall.txt')"
   ]
  }
 ],
 "metadata": {
  "kernelspec": {
   "display_name": "Python 3",
   "language": "python",
   "name": "python3"
  },
  "language_info": {
   "codemirror_mode": {
    "name": "ipython",
    "version": 3
   },
   "file_extension": ".py",
   "mimetype": "text/x-python",
   "name": "python",
   "nbconvert_exporter": "python",
   "pygments_lexer": "ipython3",
   "version": "3.6.8"
  }
 },
 "nbformat": 4,
 "nbformat_minor": 2
}
